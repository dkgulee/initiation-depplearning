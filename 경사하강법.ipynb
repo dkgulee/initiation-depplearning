{
  "nbformat": 4,
  "nbformat_minor": 0,
  "metadata": {
    "colab": {
      "name": "경사하강법.ipynb",
      "provenance": [],
      "collapsed_sections": [],
      "authorship_tag": "ABX9TyON8T9hBJXZD6eS56rWRwVW",
      "include_colab_link": true
    },
    "kernelspec": {
      "name": "python3",
      "display_name": "Python 3"
    }
  },
  "cells": [
    {
      "cell_type": "markdown",
      "metadata": {
        "id": "view-in-github",
        "colab_type": "text"
      },
      "source": [
        "<a href=\"https://colab.research.google.com/github/dkgulee/initiation-depplearning/blob/master/%EA%B2%BD%EC%82%AC%ED%95%98%EA%B0%95%EB%B2%95.ipynb\" target=\"_parent\"><img src=\"https://colab.research.google.com/assets/colab-badge.svg\" alt=\"Open In Colab\"/></a>"
      ]
    },
    {
      "cell_type": "code",
      "metadata": {
        "id": "I1CUdjVUrRFu",
        "colab_type": "code",
        "colab": {}
      },
      "source": [
        "from sklearn.datasets  import load_diabetes"
      ],
      "execution_count": 0,
      "outputs": []
    },
    {
      "cell_type": "code",
      "metadata": {
        "id": "J8rHUOVVrlb_",
        "colab_type": "code",
        "colab": {}
      },
      "source": [
        "diabetes = load_diabetes()"
      ],
      "execution_count": 0,
      "outputs": []
    },
    {
      "cell_type": "code",
      "metadata": {
        "id": "pTBYXwDLr1gc",
        "colab_type": "code",
        "colab": {
          "base_uri": "https://localhost:8080/",
          "height": 1000
        },
        "outputId": "c0a28aad-8577-43ea-d59c-89d5ebd10db7"
      },
      "source": [
        "diabetes"
      ],
      "execution_count": 6,
      "outputs": [
        {
          "output_type": "execute_result",
          "data": {
            "text/plain": [
              "{'DESCR': '.. _diabetes_dataset:\\n\\nDiabetes dataset\\n----------------\\n\\nTen baseline variables, age, sex, body mass index, average blood\\npressure, and six blood serum measurements were obtained for each of n =\\n442 diabetes patients, as well as the response of interest, a\\nquantitative measure of disease progression one year after baseline.\\n\\n**Data Set Characteristics:**\\n\\n  :Number of Instances: 442\\n\\n  :Number of Attributes: First 10 columns are numeric predictive values\\n\\n  :Target: Column 11 is a quantitative measure of disease progression one year after baseline\\n\\n  :Attribute Information:\\n      - Age\\n      - Sex\\n      - Body mass index\\n      - Average blood pressure\\n      - S1\\n      - S2\\n      - S3\\n      - S4\\n      - S5\\n      - S6\\n\\nNote: Each of these 10 feature variables have been mean centered and scaled by the standard deviation times `n_samples` (i.e. the sum of squares of each column totals 1).\\n\\nSource URL:\\nhttps://www4.stat.ncsu.edu/~boos/var.select/diabetes.html\\n\\nFor more information see:\\nBradley Efron, Trevor Hastie, Iain Johnstone and Robert Tibshirani (2004) \"Least Angle Regression,\" Annals of Statistics (with discussion), 407-499.\\n(https://web.stanford.edu/~hastie/Papers/LARS/LeastAngle_2002.pdf)',\n",
              " 'data': array([[ 0.03807591,  0.05068012,  0.06169621, ..., -0.00259226,\n",
              "          0.01990842, -0.01764613],\n",
              "        [-0.00188202, -0.04464164, -0.05147406, ..., -0.03949338,\n",
              "         -0.06832974, -0.09220405],\n",
              "        [ 0.08529891,  0.05068012,  0.04445121, ..., -0.00259226,\n",
              "          0.00286377, -0.02593034],\n",
              "        ...,\n",
              "        [ 0.04170844,  0.05068012, -0.01590626, ..., -0.01107952,\n",
              "         -0.04687948,  0.01549073],\n",
              "        [-0.04547248, -0.04464164,  0.03906215, ...,  0.02655962,\n",
              "          0.04452837, -0.02593034],\n",
              "        [-0.04547248, -0.04464164, -0.0730303 , ..., -0.03949338,\n",
              "         -0.00421986,  0.00306441]]),\n",
              " 'data_filename': '/usr/local/lib/python3.6/dist-packages/sklearn/datasets/data/diabetes_data.csv.gz',\n",
              " 'feature_names': ['age',\n",
              "  'sex',\n",
              "  'bmi',\n",
              "  'bp',\n",
              "  's1',\n",
              "  's2',\n",
              "  's3',\n",
              "  's4',\n",
              "  's5',\n",
              "  's6'],\n",
              " 'target': array([151.,  75., 141., 206., 135.,  97., 138.,  63., 110., 310., 101.,\n",
              "         69., 179., 185., 118., 171., 166., 144.,  97., 168.,  68.,  49.,\n",
              "         68., 245., 184., 202., 137.,  85., 131., 283., 129.,  59., 341.,\n",
              "         87.,  65., 102., 265., 276., 252.,  90., 100.,  55.,  61.,  92.,\n",
              "        259.,  53., 190., 142.,  75., 142., 155., 225.,  59., 104., 182.,\n",
              "        128.,  52.,  37., 170., 170.,  61., 144.,  52., 128.,  71., 163.,\n",
              "        150.,  97., 160., 178.,  48., 270., 202., 111.,  85.,  42., 170.,\n",
              "        200., 252., 113., 143.,  51.,  52., 210.,  65., 141.,  55., 134.,\n",
              "         42., 111.,  98., 164.,  48.,  96.,  90., 162., 150., 279.,  92.,\n",
              "         83., 128., 102., 302., 198.,  95.,  53., 134., 144., 232.,  81.,\n",
              "        104.,  59., 246., 297., 258., 229., 275., 281., 179., 200., 200.,\n",
              "        173., 180.,  84., 121., 161.,  99., 109., 115., 268., 274., 158.,\n",
              "        107.,  83., 103., 272.,  85., 280., 336., 281., 118., 317., 235.,\n",
              "         60., 174., 259., 178., 128.,  96., 126., 288.,  88., 292.,  71.,\n",
              "        197., 186.,  25.,  84.,  96., 195.,  53., 217., 172., 131., 214.,\n",
              "         59.,  70., 220., 268., 152.,  47.,  74., 295., 101., 151., 127.,\n",
              "        237., 225.,  81., 151., 107.,  64., 138., 185., 265., 101., 137.,\n",
              "        143., 141.,  79., 292., 178.,  91., 116.,  86., 122.,  72., 129.,\n",
              "        142.,  90., 158.,  39., 196., 222., 277.,  99., 196., 202., 155.,\n",
              "         77., 191.,  70.,  73.,  49.,  65., 263., 248., 296., 214., 185.,\n",
              "         78.,  93., 252., 150.,  77., 208.,  77., 108., 160.,  53., 220.,\n",
              "        154., 259.,  90., 246., 124.,  67.,  72., 257., 262., 275., 177.,\n",
              "         71.,  47., 187., 125.,  78.,  51., 258., 215., 303., 243.,  91.,\n",
              "        150., 310., 153., 346.,  63.,  89.,  50.,  39., 103., 308., 116.,\n",
              "        145.,  74.,  45., 115., 264.,  87., 202., 127., 182., 241.,  66.,\n",
              "         94., 283.,  64., 102., 200., 265.,  94., 230., 181., 156., 233.,\n",
              "         60., 219.,  80.,  68., 332., 248.,  84., 200.,  55.,  85.,  89.,\n",
              "         31., 129.,  83., 275.,  65., 198., 236., 253., 124.,  44., 172.,\n",
              "        114., 142., 109., 180., 144., 163., 147.,  97., 220., 190., 109.,\n",
              "        191., 122., 230., 242., 248., 249., 192., 131., 237.,  78., 135.,\n",
              "        244., 199., 270., 164.,  72.,  96., 306.,  91., 214.,  95., 216.,\n",
              "        263., 178., 113., 200., 139., 139.,  88., 148.,  88., 243.,  71.,\n",
              "         77., 109., 272.,  60.,  54., 221.,  90., 311., 281., 182., 321.,\n",
              "         58., 262., 206., 233., 242., 123., 167.,  63., 197.,  71., 168.,\n",
              "        140., 217., 121., 235., 245.,  40.,  52., 104., 132.,  88.,  69.,\n",
              "        219.,  72., 201., 110.,  51., 277.,  63., 118.,  69., 273., 258.,\n",
              "         43., 198., 242., 232., 175.,  93., 168., 275., 293., 281.,  72.,\n",
              "        140., 189., 181., 209., 136., 261., 113., 131., 174., 257.,  55.,\n",
              "         84.,  42., 146., 212., 233.,  91., 111., 152., 120.,  67., 310.,\n",
              "         94., 183.,  66., 173.,  72.,  49.,  64.,  48., 178., 104., 132.,\n",
              "        220.,  57.]),\n",
              " 'target_filename': '/usr/local/lib/python3.6/dist-packages/sklearn/datasets/data/diabetes_target.csv.gz'}"
            ]
          },
          "metadata": {
            "tags": []
          },
          "execution_count": 6
        }
      ]
    },
    {
      "cell_type": "code",
      "metadata": {
        "id": "ot2KR7Qgr33X",
        "colab_type": "code",
        "colab": {
          "base_uri": "https://localhost:8080/",
          "height": 35
        },
        "outputId": "b469ca2e-0f6f-4311-bfe6-6a6842159705"
      },
      "source": [
        "print(diabetes.data.shape, diabetes.target.shape)"
      ],
      "execution_count": 7,
      "outputs": [
        {
          "output_type": "stream",
          "text": [
            "(442, 10) (442,)\n"
          ],
          "name": "stdout"
        }
      ]
    },
    {
      "cell_type": "code",
      "metadata": {
        "id": "o9CimL3EsXxt",
        "colab_type": "code",
        "colab": {
          "base_uri": "https://localhost:8080/",
          "height": 125
        },
        "outputId": "6d2eda90-15ce-4818-98fc-c3237ce5064d"
      },
      "source": [
        "diabetes.data[0:3]"
      ],
      "execution_count": 8,
      "outputs": [
        {
          "output_type": "execute_result",
          "data": {
            "text/plain": [
              "array([[ 0.03807591,  0.05068012,  0.06169621,  0.02187235, -0.0442235 ,\n",
              "        -0.03482076, -0.04340085, -0.00259226,  0.01990842, -0.01764613],\n",
              "       [-0.00188202, -0.04464164, -0.05147406, -0.02632783, -0.00844872,\n",
              "        -0.01916334,  0.07441156, -0.03949338, -0.06832974, -0.09220405],\n",
              "       [ 0.08529891,  0.05068012,  0.04445121, -0.00567061, -0.04559945,\n",
              "        -0.03419447, -0.03235593, -0.00259226,  0.00286377, -0.02593034]])"
            ]
          },
          "metadata": {
            "tags": []
          },
          "execution_count": 8
        }
      ]
    },
    {
      "cell_type": "code",
      "metadata": {
        "id": "in5u5lfSssnI",
        "colab_type": "code",
        "colab": {
          "base_uri": "https://localhost:8080/",
          "height": 35
        },
        "outputId": "d0650aea-6887-4fb2-d74a-fe3c7d3bfae0"
      },
      "source": [
        "diabetes.target[:3]"
      ],
      "execution_count": 9,
      "outputs": [
        {
          "output_type": "execute_result",
          "data": {
            "text/plain": [
              "array([151.,  75., 141.])"
            ]
          },
          "metadata": {
            "tags": []
          },
          "execution_count": 9
        }
      ]
    },
    {
      "cell_type": "code",
      "metadata": {
        "id": "yfRqem_hs4MA",
        "colab_type": "code",
        "colab": {
          "base_uri": "https://localhost:8080/",
          "height": 279
        },
        "outputId": "ba4d133d-e639-4649-d68b-bbc44833add1"
      },
      "source": [
        "import matplotlib.pyplot as plt\n",
        "plt.scatter(diabetes.data[:, 2], diabetes.target)\n",
        "plt.xlabel('x')\n",
        "plt.ylabel('y')\n",
        "plt.show()"
      ],
      "execution_count": 10,
      "outputs": [
        {
          "output_type": "display_data",
          "data": {
            "image/png": "[encoded data removed]",
            "text/plain": [
              "<Figure size 432x288 with 1 Axes>"
            ]
          },
          "metadata": {
            "tags": []
          }
        }
      ]
    },
    {
      "cell_type": "code",
      "metadata": {
        "id": "oDvkNWsRuDES",
        "colab_type": "code",
        "colab": {
          "base_uri": "https://localhost:8080/",
          "height": 1000
        },
        "outputId": "f070d27b-b4fd-493f-c51a-4a002c998142"
      },
      "source": [
        "x = diabetes.data[:, 2]\n",
        "y = diabetes.target\n",
        "print(x)"
      ],
      "execution_count": 11,
      "outputs": [
        {
          "output_type": "stream",
          "text": [
            "[ 0.06169621 -0.05147406  0.04445121 -0.01159501 -0.03638469 -0.04069594\n",
            " -0.04716281 -0.00189471  0.06169621  0.03906215 -0.08380842  0.01750591\n",
            " -0.02884001 -0.00189471 -0.02560657 -0.01806189  0.04229559  0.01211685\n",
            " -0.0105172  -0.01806189 -0.05686312 -0.02237314 -0.00405033  0.06061839\n",
            "  0.03582872 -0.01267283 -0.07734155  0.05954058 -0.02129532 -0.00620595\n",
            "  0.04445121 -0.06548562  0.12528712 -0.05039625 -0.06332999 -0.03099563\n",
            "  0.02289497  0.01103904  0.07139652  0.01427248 -0.00836158 -0.06764124\n",
            " -0.0105172  -0.02345095  0.06816308 -0.03530688 -0.01159501 -0.0730303\n",
            " -0.04177375  0.01427248 -0.00728377  0.0164281  -0.00943939 -0.01590626\n",
            "  0.0250506  -0.04931844  0.04121778 -0.06332999 -0.06440781 -0.02560657\n",
            " -0.00405033  0.00457217 -0.00728377 -0.0374625  -0.02560657 -0.02452876\n",
            " -0.01806189 -0.01482845 -0.02991782 -0.046085   -0.06979687  0.03367309\n",
            " -0.00405033 -0.02021751  0.00241654 -0.03099563  0.02828403 -0.03638469\n",
            " -0.05794093 -0.0374625   0.01211685 -0.02237314 -0.03530688  0.00996123\n",
            " -0.03961813  0.07139652 -0.07518593 -0.00620595 -0.04069594 -0.04824063\n",
            " -0.02560657  0.0519959   0.00457217 -0.06440781 -0.01698407 -0.05794093\n",
            "  0.00996123  0.08864151 -0.00512814 -0.06440781  0.01750591 -0.04500719\n",
            "  0.02828403  0.04121778  0.06492964 -0.03207344 -0.07626374  0.04984027\n",
            "  0.04552903 -0.00943939 -0.03207344  0.00457217  0.02073935  0.01427248\n",
            "  0.11019775  0.00133873  0.05846277 -0.02129532 -0.0105172  -0.04716281\n",
            "  0.00457217  0.01750591  0.08109682  0.0347509   0.02397278 -0.00836158\n",
            " -0.06117437 -0.00189471 -0.06225218  0.0164281   0.09618619 -0.06979687\n",
            " -0.02129532 -0.05362969  0.0433734   0.05630715 -0.0816528   0.04984027\n",
            "  0.11127556  0.06169621  0.01427248  0.04768465  0.01211685  0.00564998\n",
            "  0.04660684  0.12852056  0.05954058  0.09295276  0.01535029 -0.00512814\n",
            "  0.0703187  -0.00405033 -0.00081689 -0.04392938  0.02073935  0.06061839\n",
            " -0.0105172  -0.03315126 -0.06548562  0.0433734  -0.06225218  0.06385183\n",
            "  0.03043966  0.07247433 -0.0191397  -0.06656343 -0.06009656  0.06924089\n",
            "  0.05954058 -0.02668438 -0.02021751 -0.046085    0.07139652 -0.07949718\n",
            "  0.00996123 -0.03854032  0.01966154  0.02720622 -0.00836158 -0.01590626\n",
            "  0.00457217 -0.04285156  0.00564998 -0.03530688  0.02397278 -0.01806189\n",
            "  0.04229559 -0.0547075  -0.00297252 -0.06656343 -0.01267283 -0.04177375\n",
            " -0.03099563 -0.00512814 -0.05901875  0.0250506  -0.046085    0.00349435\n",
            "  0.05415152 -0.04500719 -0.05794093 -0.05578531  0.00133873  0.03043966\n",
            "  0.00672779  0.04660684  0.02612841  0.04552903  0.04013997 -0.01806189\n",
            "  0.01427248  0.03690653  0.00349435 -0.07087468 -0.03315126  0.09403057\n",
            "  0.03582872  0.03151747 -0.06548562 -0.04177375 -0.03961813 -0.03854032\n",
            " -0.02560657 -0.02345095 -0.06656343  0.03259528 -0.046085   -0.02991782\n",
            " -0.01267283 -0.01590626  0.07139652 -0.03099563  0.00026092  0.03690653\n",
            "  0.03906215 -0.01482845  0.00672779 -0.06871905 -0.00943939  0.01966154\n",
            "  0.07462995 -0.00836158 -0.02345095 -0.046085    0.05415152 -0.03530688\n",
            " -0.03207344 -0.0816528   0.04768465  0.06061839  0.05630715  0.09834182\n",
            "  0.05954058  0.03367309  0.05630715 -0.06548562  0.16085492 -0.05578531\n",
            " -0.02452876 -0.03638469 -0.00836158 -0.04177375  0.12744274 -0.07734155\n",
            "  0.02828403 -0.02560657 -0.06225218 -0.00081689  0.08864151 -0.03207344\n",
            "  0.03043966  0.00888341  0.00672779 -0.02021751 -0.02452876 -0.01159501\n",
            "  0.02612841 -0.05901875 -0.03638469 -0.02452876  0.01858372 -0.0902753\n",
            " -0.00512814 -0.05255187 -0.02237314 -0.02021751 -0.0547075  -0.00620595\n",
            " -0.01698407  0.05522933  0.07678558  0.01858372 -0.02237314  0.09295276\n",
            " -0.03099563  0.03906215 -0.06117437 -0.00836158 -0.0374625  -0.01375064\n",
            "  0.07355214 -0.02452876  0.03367309  0.0347509  -0.03854032 -0.03961813\n",
            " -0.00189471 -0.03099563 -0.046085    0.00133873  0.06492964  0.04013997\n",
            " -0.02345095  0.05307371  0.04013997 -0.02021751  0.01427248 -0.03422907\n",
            "  0.00672779  0.00457217  0.03043966  0.0519959   0.06169621 -0.00728377\n",
            "  0.00564998  0.05415152 -0.00836158  0.114509    0.06708527 -0.05578531\n",
            "  0.03043966 -0.02560657  0.10480869 -0.00620595 -0.04716281 -0.04824063\n",
            "  0.08540807 -0.01267283 -0.03315126 -0.00728377 -0.01375064  0.05954058\n",
            "  0.02181716  0.01858372 -0.01159501 -0.00297252  0.01750591 -0.02991782\n",
            " -0.02021751 -0.05794093  0.06061839 -0.04069594 -0.07195249 -0.05578531\n",
            "  0.04552903 -0.00943939 -0.03315126  0.04984027 -0.08488624  0.00564998\n",
            "  0.02073935 -0.00728377  0.10480869 -0.02452876 -0.00620595 -0.03854032\n",
            "  0.13714305  0.17055523  0.00241654  0.03798434 -0.05794093 -0.00943939\n",
            " -0.02345095 -0.0105172  -0.03422907 -0.00297252  0.06816308  0.00996123\n",
            "  0.00241654 -0.03854032  0.02612841 -0.08919748  0.06061839 -0.02884001\n",
            " -0.02991782 -0.0191397  -0.04069594  0.01535029 -0.02452876  0.00133873\n",
            "  0.06924089 -0.06979687 -0.02991782 -0.046085    0.01858372  0.00133873\n",
            " -0.03099563 -0.00405033  0.01535029  0.02289497  0.04552903 -0.04500719\n",
            " -0.03315126  0.097264    0.05415152  0.12313149 -0.08057499  0.09295276\n",
            " -0.05039625 -0.01159501 -0.0277622   0.05846277  0.08540807 -0.00081689\n",
            "  0.00672779  0.00888341  0.08001901  0.07139652 -0.02452876 -0.0547075\n",
            " -0.03638469  0.0164281   0.07786339 -0.03961813  0.01103904 -0.04069594\n",
            " -0.03422907  0.00564998  0.08864151 -0.03315126 -0.05686312 -0.03099563\n",
            "  0.05522933 -0.06009656  0.00133873 -0.02345095 -0.07410811  0.01966154\n",
            " -0.01590626 -0.01590626  0.03906215 -0.0730303 ]\n"
          ],
          "name": "stdout"
        }
      ]
    },
    {
      "cell_type": "code",
      "metadata": {
        "id": "8mhvv06cu3kn",
        "colab_type": "code",
        "colab": {}
      },
      "source": [
        ""
      ],
      "execution_count": 0,
      "outputs": []
    },
    {
      "cell_type": "markdown",
      "metadata": {
        "id": "k371dQ4Ru8Kp",
        "colab_type": "text"
      },
      "source": [
        "# 경사 하강법으로 학습하는 방법 알아보기\n",
        "### 선형회귀의 목표 -> X(입력데이터) Y(타깃) 을 활용해서 A(기울기) b(절편)을 찾는 회귀 알고리즘이다 \n",
        "### 경사하강법은 : 기울기(변화율)을 사용하여 모델을 조금씩 조정하는 초적화 알고리즘이다.\n",
        "\n",
        "###예측값과 변화율에 대해 알아보자.\n",
        "y= a+b  --> **y^ = wx + b**  \n",
        "훈련데이터의 (x,y) 를통해  w ,b 를 찾는다 \n",
        "\n",
        "### 훈련 데이터와 잘 맞는 w와 b를 찾는 방법\n",
        "#### 1. 무작위로 w와 b를 정합니다.(무작위로 모델 만들기).\n",
        "#### 2. x에서 샘플 하나를 선택하여 y^을 계산합니다.(무작위로 모델 예측하기).\n",
        "#### 3. y^과 선택한 샘플의 진짜 y를 비교를 한다(예측한 값과 진짜 정답 비교하기, 틀릴확률99%)\n",
        "#### 4. y^ 이  y와 더 가까워지도록 w,b를 조정한다(모델 조정하기).\n",
        "#### 5. 모든 셈플을 처리할 떄 까지 다시 2~4 을 반복한다.\n"
      ]
    },
    {
      "cell_type": "markdown",
      "metadata": {
        "id": "IXyHlpjux4hk",
        "colab_type": "text"
      },
      "source": [
        "1. w와b 를 초기화하기"
      ]
    },
    {
      "cell_type": "code",
      "metadata": {
        "id": "wwjIvbG_wrmA",
        "colab_type": "code",
        "colab": {}
      },
      "source": [
        "w = 1.0\n",
        "b = 1.0"
      ],
      "execution_count": 0,
      "outputs": []
    },
    {
      "cell_type": "markdown",
      "metadata": {
        "id": "0dmYkhIEyENJ",
        "colab_type": "text"
      },
      "source": [
        "2. 훈련 데이터의 첫 번쨰 샘플 데이터로 y^ 얻기"
      ]
    },
    {
      "cell_type": "code",
      "metadata": {
        "id": "xNaEPb97yCUJ",
        "colab_type": "code",
        "colab": {
          "base_uri": "https://localhost:8080/",
          "height": 35
        },
        "outputId": "1c87eb1f-2b7c-42cb-b657-c10d45f28023"
      },
      "source": [
        "y_hat = x[0] * w + b\n",
        "print(y_hat)"
      ],
      "execution_count": 13,
      "outputs": [
        {
          "output_type": "stream",
          "text": [
            "1.0616962065186886\n"
          ],
          "name": "stdout"
        }
      ]
    },
    {
      "cell_type": "markdown",
      "metadata": {
        "id": "92YRYnbuyUsM",
        "colab_type": "text"
      },
      "source": [
        "3. 타깃과 예측 데이터 비교하기\n",
        "  첫 번쨰 샘플 x[0]에 대응하는 타깃값 y[0]을 출력하여 y_hat의 값과 비교한다."
      ]
    },
    {
      "cell_type": "code",
      "metadata": {
        "id": "w0K9AyvByQ2c",
        "colab_type": "code",
        "colab": {
          "base_uri": "https://localhost:8080/",
          "height": 35
        },
        "outputId": "7eae3aa7-0228-4f23-ec3a-eecb59c27c7a"
      },
      "source": [
        "print(y[0])"
      ],
      "execution_count": 14,
      "outputs": [
        {
          "output_type": "stream",
          "text": [
            "151.0\n"
          ],
          "name": "stdout"
        }
      ]
    },
    {
      "cell_type": "markdown",
      "metadata": {
        "id": "thzhh0pYylrX",
        "colab_type": "text"
      },
      "source": [
        "4. w 값 조절해 예측값 바꾸기\n",
        " 이제 w와 b를 좀더 좋은 방향으로 바꿔보자.\n",
        " 어떤 방향으로 바꾸면 y_hat이 y[0]에 가까워질 수 있을까요?\n",
        " 가장 쉬운 방법은 w와 b를 조금씩 변경해서 y_hat이 증가하는지 또는 감소하는지 살펴보는 것이다.\n",
        "\n"
      ]
    },
    {
      "cell_type": "code",
      "metadata": {
        "id": "ArSlzhblyY0J",
        "colab_type": "code",
        "colab": {
          "base_uri": "https://localhost:8080/",
          "height": 35
        },
        "outputId": "aaa567b2-a4c7-434f-83b4-c7aa9d313f31"
      },
      "source": [
        "w_inc = w + 0.1\n",
        "y_hat_inc = x[0] * w_inc + b\n",
        "print(y_hat_inc)"
      ],
      "execution_count": 15,
      "outputs": [
        {
          "output_type": "stream",
          "text": [
            "1.0678658271705574\n"
          ],
          "name": "stdout"
        }
      ]
    },
    {
      "cell_type": "markdown",
      "metadata": {
        "id": "-IQwdmkgz7Ef",
        "colab_type": "text"
      },
      "source": [
        "5. w 값 조정한 후 예측값 증가 정도 확인하기\n"
      ]
    },
    {
      "cell_type": "code",
      "metadata": {
        "id": "S9JAra9Qz2jy",
        "colab_type": "code",
        "colab": {
          "base_uri": "https://localhost:8080/",
          "height": 35
        },
        "outputId": "27a7eb43-497b-45d7-f304-2c59649938d3"
      },
      "source": [
        "w_rate = (y_hat_inc - y_hat)/ (w_inc - w)\n",
        "w_rate"
      ],
      "execution_count": 16,
      "outputs": [
        {
          "output_type": "execute_result",
          "data": {
            "text/plain": [
              "0.061696206518688734"
            ]
          },
          "metadata": {
            "tags": []
          },
          "execution_count": 16
        }
      ]
    },
    {
      "cell_type": "markdown",
      "metadata": {
        "id": "zukMB6511l_w",
        "colab_type": "text"
      },
      "source": [
        "## 변화율로 가중치 업데이트하기\n",
        "\n",
        "### 변화율이 양수일 떄 가중치를 업데이트하는 방법\n",
        " W값이 증가하면 y_hat이 증가\n",
        "### 변화율이 음수일 떄 가중치를 업데이트하는 방법 \n",
        " w값이 증가하면 y_hat은 감소한다. -> w값이 감소하면 y_hat은 증가한다.\n",
        " w 에 w_rate를 더해주면 가중치가 업섿이트가 된다"
      ]
    },
    {
      "cell_type": "code",
      "metadata": {
        "id": "bKyGLPh10NAm",
        "colab_type": "code",
        "colab": {
          "base_uri": "https://localhost:8080/",
          "height": 35
        },
        "outputId": "9642e471-24d5-4df3-87ee-ebfee941b98c"
      },
      "source": [
        "w_new = w + w_rate\n",
        "w_new"
      ],
      "execution_count": 17,
      "outputs": [
        {
          "output_type": "execute_result",
          "data": {
            "text/plain": [
              "1.0616962065186888"
            ]
          },
          "metadata": {
            "tags": []
          },
          "execution_count": 17
        }
      ]
    },
    {
      "cell_type": "markdown",
      "metadata": {
        "id": "Tu32VMFi21eK",
        "colab_type": "text"
      },
      "source": [
        "## 변화율로 절편 업데이트하기\n",
        "이번에는 절편 b에 대한 변화율을 구한 다음 변화율로 b를 업데이트하겠다. b를 0.1만큼 증가시킨 후 y_hat이 얼마나 증가했는지 계산하고 변화율도 계산한다."
      ]
    },
    {
      "cell_type": "code",
      "metadata": {
        "id": "tjvPyBcm3R5I",
        "colab_type": "code",
        "colab": {
          "base_uri": "https://localhost:8080/",
          "height": 53
        },
        "outputId": "bf71fdb3-ae45-462a-990d-2714ad449cae"
      },
      "source": [
        "b_inc = b + 0.1\n",
        "y_hat_inc = x[0] * w + b_inc\n",
        "print(y_hat_inc)\n",
        "\n",
        "b_rate = (y_hat_inc - y_hat) / (b_inc - b)\n",
        "print(b_rate)"
      ],
      "execution_count": 19,
      "outputs": [
        {
          "output_type": "stream",
          "text": [
            "1.1616962065186887\n",
            "1.0\n"
          ],
          "name": "stdout"
        }
      ]
    },
    {
      "cell_type": "markdown",
      "metadata": {
        "id": "tJx-lBIQ3a9r",
        "colab_type": "text"
      },
      "source": [
        "변화율의 값을 보니 1이다. 즉 b가 1만큼 증가하면 y_hat 도 1만큼 증가한다.\n",
        "즉. b를 업데이트하기 위해서 변화율이 1이므로 단순히 1을 더하면 된다."
      ]
    },
    {
      "cell_type": "code",
      "metadata": {
        "id": "du1V7xI74TGo",
        "colab_type": "code",
        "colab": {
          "base_uri": "https://localhost:8080/",
          "height": 35
        },
        "outputId": "4b485b16-0235-4830-f8bf-75f08ca6dffd"
      },
      "source": [
        "b_new = b + 1\n",
        "b_new"
      ],
      "execution_count": 21,
      "outputs": [
        {
          "output_type": "execute_result",
          "data": {
            "text/plain": [
              "2.0"
            ]
          },
          "metadata": {
            "tags": []
          },
          "execution_count": 21
        }
      ]
    },
    {
      "cell_type": "markdown",
      "metadata": {
        "id": "wohTlLyP4V8W",
        "colab_type": "text"
      },
      "source": [
        "y_hat을 증가시켜야 하는 상황을 가정하고 w와 b를 업데이트하는 방법에 대해 알아보았다. 그런데 이방법은 조금 수동적인 방법이다.\n",
        "- Y_hat이 y에 한참 미치지 못하는 값인 경우 , w와 b를 더 큰 폭으로 수정할 수 없다,(앞에서 변화율 만큼 수정을 했지만 특별한 기준을 정하기가 어렵다)\n",
        "- y_hat이 y보다 커지면 y_hat을 감소시키지 못한다.\n",
        "\n",
        "w와 b를 더 능동적으로 업데이트하는 방법인 **오차 역전파**를 알아보자"
      ]
    },
    {
      "cell_type": "markdown",
      "metadata": {
        "id": "cy4RwRdG48yH",
        "colab_type": "text"
      },
      "source": [
        "## 오차 역전파로 가중치와 절편을 더 적절하게 업데이트 한다.\n",
        "**오차 역전파**는 y^과 y의 차이를 이용하여 w외 b를 업데이트합니다.\n",
        "이 방법은 오차가 연이어 전파되는 모습으로 수행된다.\n",
        "\n",
        "### 가중치와 절편을 더욱 적절하게 업데이트하는 방법\n",
        "앞의 예제는 변화율만으로 w와 b를 업데이트 했다.\n",
        "#### y^ > y  ∴ w↑ b↑  &&   y^ < y  ∴ w↓ b↓\n",
        "\n",
        "### y - y^ 오차의 양을 변화율에 곱하는 방법으로 w를 업데이트 해보자 -> 이렇게하면 y^이 y보다 많이 작은 경우 w와b를 많이 바꿀 수 있다. <br> 또 y^이 y 를 지나치면 w 와 b의 방향도 바꾸어 준다\n",
        "\n"
      ]
    },
    {
      "cell_type": "markdown",
      "metadata": {
        "id": "Rp205_vXKf83",
        "colab_type": "text"
      },
      "source": [
        "### 오차의 변화율을 곱하여 가중치 업데이트하기 "
      ]
    },
    {
      "cell_type": "code",
      "metadata": {
        "id": "tU6U6WABQlXk",
        "colab_type": "code",
        "colab": {
          "base_uri": "https://localhost:8080/",
          "height": 35
        },
        "outputId": "6fc30f38-ea7f-460a-cf3e-938e0fecbfe1"
      },
      "source": [
        "err = y[0] - y_hat\n",
        "w_new = w + w_rate* err\n",
        "b_new = b + 1*err\n",
        "print(w_new, b_new)"
      ],
      "execution_count": 22,
      "outputs": [
        {
          "output_type": "stream",
          "text": [
            "10.250624555904514 150.9383037934813\n"
          ],
          "name": "stdout"
        }
      ]
    },
    {
      "cell_type": "code",
      "metadata": {
        "id": "C53ym62LQvU3",
        "colab_type": "code",
        "colab": {
          "base_uri": "https://localhost:8080/",
          "height": 35
        },
        "outputId": "121fb725-ba07-4250-b1b2-573f2cbf717c"
      },
      "source": [
        "y_hat = x[1]* w_new + b_new\n",
        "err = y[1] - y_hat\n",
        "w_rate = x[1]\n",
        "w_new = w_new + w_rate * err\n",
        "b_new = b_new +1 * err\n",
        "print(w_new, b_new)"
      ],
      "execution_count": 23,
      "outputs": [
        {
          "output_type": "stream",
          "text": [
            "14.132317616381767 75.52764127612664\n"
          ],
          "name": "stdout"
        }
      ]
    },
    {
      "cell_type": "code",
      "metadata": {
        "id": "lhD7CqnRSmls",
        "colab_type": "code",
        "colab": {
          "base_uri": "https://localhost:8080/",
          "height": 35
        },
        "outputId": "37f86149-42f6-4448-f81b-500c99e7669c"
      },
      "source": [
        "for x_i, y_i in zip(x, y):\n",
        "  y_hat = x_i * w +b\n",
        "  err = y_i - y_hat\n",
        "  w_rate = x_i\n",
        "  w = w + w_rate * err\n",
        "  b = b + 1 * err\n",
        "print(w, b)"
      ],
      "execution_count": 24,
      "outputs": [
        {
          "output_type": "stream",
          "text": [
            "587.8654539985689 99.40935564531424\n"
          ],
          "name": "stdout"
        }
      ]
    },
    {
      "cell_type": "code",
      "metadata": {
        "id": "i54_K78BS-OV",
        "colab_type": "code",
        "colab": {
          "base_uri": "https://localhost:8080/",
          "height": 279
        },
        "outputId": "73b41f75-1909-47a0-abd7-0a97b986305f"
      },
      "source": [
        "plt.scatter(x, y)\n",
        "pt1 = ( -0.1, -0.1 * w + b )\n",
        "pt2 = (0.15, 0.15 * w +b)\n",
        "\n",
        "plt.xlabel('x')\n",
        "plt.ylabel('y')\n",
        "plt.show()"
      ],
      "execution_count": 26,
      "outputs": [
        {
          "output_type": "display_data",
          "data": {
            "image/png": "[encoded data removed]",
            "text/plain": [
              "<Figure size 432x288 with 1 Axes>"
            ]
          },
          "metadata": {
            "tags": []
          }
        }
      ]
    },
    {
      "cell_type": "code",
      "metadata": {
        "id": "9aMYCuUGVzHl",
        "colab_type": "code",
        "colab": {
          "base_uri": "https://localhost:8080/",
          "height": 283
        },
        "outputId": "70b3a543-9424-4bb7-cbea-5a9cf41ab250"
      },
      "source": [
        "plt.plot([pt1[0], pt2[0]], [pt1[1], pt2[1]])"
      ],
      "execution_count": 27,
      "outputs": [
        {
          "output_type": "execute_result",
          "data": {
            "text/plain": [
              "[<matplotlib.lines.Line2D at 0x7f5fcf31edd8>]"
            ]
          },
          "metadata": {
            "tags": []
          },
          "execution_count": 27
        },
        {
          "output_type": "display_data",
          "data": {
            "image/png": "[encoded data removed]",
            "text/plain": [
              "<Figure size 432x288 with 1 Axes>"
            ]
          },
          "metadata": {
            "tags": []
          }
        }
      ]
    },
    {
      "cell_type": "code",
      "metadata": {
        "id": "LDcyRm35WjkP",
        "colab_type": "code",
        "colab": {
          "base_uri": "https://localhost:8080/",
          "height": 279
        },
        "outputId": "bf68e4e8-4300-4bd1-b990-e15c2118628e"
      },
      "source": [
        "plt.scatter(x, y)\n",
        "pt1 = ( -0.1, -0.1 * w + b )\n",
        "pt2 = (0.15, 0.15 * w +b)\n",
        "plt.plot([pt1[0], pt2[0]], [pt1[1], pt2[1]])\n",
        "plt.xlabel('x')\n",
        "plt.ylabel('y')\n",
        "plt.show()"
      ],
      "execution_count": 28,
      "outputs": [
        {
          "output_type": "display_data",
          "data": {
            "image/png": "[encoded data removed]",
            "text/plain": [
              "<Figure size 432x288 with 1 Axes>"
            ]
          },
          "metadata": {
            "tags": []
          }
        }
      ]
    },
    {
      "cell_type": "markdown",
      "metadata": {
        "id": "ZxGPentlWmLH",
        "colab_type": "text"
      },
      "source": [
        "## 여러 애포크를 반복하기"
      ]
    },
    {
      "cell_type": "code",
      "metadata": {
        "id": "LYAxuVNAb-7n",
        "colab_type": "code",
        "colab": {
          "base_uri": "https://localhost:8080/",
          "height": 35
        },
        "outputId": "e184e1b5-47e5-40da-e727-bc0bab701958"
      },
      "source": [
        "for i in  range(1, 100):\n",
        "  for x_i, y_i in zip(x, y):\n",
        "    y_hat = x_i * w + b\n",
        "    err = y_i - y_hat\n",
        "    w_rate = x_i\n",
        "    w = w + w_rate * err\n",
        "    b = b + 1 * err\n",
        "print(w, b)"
      ],
      "execution_count": 29,
      "outputs": [
        {
          "output_type": "stream",
          "text": [
            "913.5973364345905 123.39414383177204\n"
          ],
          "name": "stdout"
        }
      ]
    },
    {
      "cell_type": "code",
      "metadata": {
        "id": "CKe65ImLcQ10",
        "colab_type": "code",
        "colab": {
          "base_uri": "https://localhost:8080/",
          "height": 279
        },
        "outputId": "e78384eb-b0ea-4497-bbf9-cc1c3797a651"
      },
      "source": [
        "plt.scatter(x, y)\n",
        "pt1 = ( -0.1, -0.1 * w + b )\n",
        "pt2 = (0.15, 0.15 * w +b)\n",
        "plt.plot([pt1[0], pt2[0]], [pt1[1], pt2[1]])\n",
        "plt.xlabel('x')\n",
        "plt.ylabel('y')\n",
        "plt.show()"
      ],
      "execution_count": 30,
      "outputs": [
        {
          "output_type": "display_data",
          "data": {
            "image/png": "[encoded data removed]",
            "text/plain": [
              "<Figure size 432x288 with 1 Axes>"
            ]
          },
          "metadata": {
            "tags": []
          }
        }
      ]
    },
    {
      "cell_type": "markdown",
      "metadata": {
        "id": "v7UYYMCLcb5Q",
        "colab_type": "text"
      },
      "source": [
        "y^ = 913.6x + 123.4"
      ]
    },
    {
      "cell_type": "code",
      "metadata": {
        "id": "w5qsUbmtffbh",
        "colab_type": "code",
        "colab": {
          "base_uri": "https://localhost:8080/",
          "height": 35
        },
        "outputId": "a57ab1f6-c0d9-4214-8e12-f4222fceb43d"
      },
      "source": [
        "x_new = 0.18\n",
        "y_pred = x_new * w + b\n",
        "print(y_pred)"
      ],
      "execution_count": 31,
      "outputs": [
        {
          "output_type": "stream",
          "text": [
            "287.8416643899983\n"
          ],
          "name": "stdout"
        }
      ]
    },
    {
      "cell_type": "code",
      "metadata": {
        "id": "DKCLKMjHfnC7",
        "colab_type": "code",
        "colab": {
          "base_uri": "https://localhost:8080/",
          "height": 279
        },
        "outputId": "f31d09a5-1ce1-48c1-d186-60fb8082014c"
      },
      "source": [
        "plt.scatter(x, y)\n",
        "plt.scatter(x_new, y_pred)\n",
        "plt.xlabel('x')\n",
        "plt.ylabel('y')\n",
        "plt.show()\n"
      ],
      "execution_count": 32,
      "outputs": [
        {
          "output_type": "display_data",
          "data": {
            "image/png": "[encoded data removed]",
            "text/plain": [
              "<Figure size 432x288 with 1 Axes>"
            ]
          },
          "metadata": {
            "tags": []
          }
        }
      ]
    },
    {
      "cell_type": "code",
      "metadata": {
        "id": "0oA9Jz6FgfJc",
        "colab_type": "code",
        "colab": {}
      },
      "source": [
        ""
      ],
      "execution_count": 0,
      "outputs": []
    }
  ]
}