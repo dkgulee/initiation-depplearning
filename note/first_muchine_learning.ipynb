{
 "cells": [
  {
   "cell_type": "markdown",
   "metadata": {},
   "source": [
    "# 1.인공지능을 소개합니다!"
   ]
  },
  {
   "cell_type": "markdown",
   "metadata": {},
   "source": [
    "### '인공지는은 사람의 지능을 만들기 위한 시스템이나 프로그램'을 말한다.\n",
    "### 인공지능\n",
    "- 강인공지능 : 사람과 구분이 안 될 정도로 강한 성능을 가진 인공지능 ex) 자비스\n",
    "- 약인공지능 : 특정 영역에서 작업을 수행하는 인공지능 ex) 시리, 자율주행자동차\n",
    "\n",
    "\n",
    "## 머신러닝과 딥러닝 그리고 인공지능의 관계\n",
    "#### 머신러닝과 딥러닝은 약 인공지능에 포함되는 기술이고   딥러닝은 머신러닝에 포함되는 기능이다. \n",
    "        _________인공지능_________\n",
    "        |                         |\n",
    "        |      _머신러닝_____     |         \n",
    "        |      |             |    | \n",
    "        |      | 딥러닝____  |    |       \n",
    "        |      | |_________| |    |\n",
    "        |      |_____________|    |\n",
    "        |_________________________|\n",
    "\n",
    "### 머신러닝은 알고리즘 종류에 따라 더 세부적으로 나눌 수 있다. 그중에 인공신경망 알고리즘을 사용하여 만든 것이 딥러닝이다.\n",
    "### 따라서 딥러닝을 알기위해서는 머신러닝을 먼저 알아야 한다!"
   ]
  },
  {
   "cell_type": "markdown",
   "metadata": {},
   "source": [
    "# 2.머신러닝을 소개 합니다!\n",
    "\n",
    "## 머신러닝은 스스로 규칙을 수정합니다!.\n",
    "### 먼저 알아야할 개념은 '학습'입니다. 머신러닝과 딥러닝에서 말하는 학습은 데이터의 규칙을 컴퓨터 스스로 찾아내는 것을 말한다\n",
    "\n",
    "- 전통적 프로그램 : 사람이 정한 규치갣로 동작함\n",
    "- 머신러닝 : 사람이 만든 프로그램이기는 하지만 규칙을 스스로 찾아 수정함 여기서 규칙을 찾아 수정하는 과정을 학습 또는 **훈련** 이라고 부른다"
   ]
  },
  {
   "cell_type": "markdown",
   "metadata": {},
   "source": [
    "## 머신러닝의 학습과 규칙\n",
    "\n",
    "## 머신러닝의 학습 방식을 이해합니다!"
   ]
  },
  {
   "cell_type": "markdown",
   "metadata": {},
   "source": [
    "### 머신러닝은 학습 방식에 따라 분류한다\n",
    "- 지도학습\n",
    "- 비지도학습\n",
    "- 강화학습"
   ]
  },
  {
   "cell_type": "markdown",
   "metadata": {},
   "source": [
    "## 2 -1 지도학습은 입력과 타깃으로 모델을 훈련시킵니다.\n",
    "만약 전날의 습도에 따라 다음 날에 비가 왔는지 안 왔는지 꾸준히 기록했다면 오늘의 습도만 알아도 그 다음날 비가 올지 안 올지 예측할 수 있을 것이다. 바로 이것이 지도 학습에 속한다. 아래의 데이터 전날 습도에 따라 오늘 비가 왔는지 안왔는지를 동그라미와 엑스로 기록한 데이터를 바탕으로 모델을 **지도하는 학습 방식**으로 훈련을 시켜 **습도가 0.6 이상이면 다음 날에 비가 왔네!** 라는 **규칙** 을 얻었다 \n"
   ]
  },
  {
   "cell_type": "code",
   "execution_count": 4,
   "metadata": {},
   "outputs": [
    {
     "data": {
      "text/html": [
       "<div>\n",
       "<style scoped>\n",
       "    .dataframe tbody tr th:only-of-type {\n",
       "        vertical-align: middle;\n",
       "    }\n",
       "\n",
       "    .dataframe tbody tr th {\n",
       "        vertical-align: top;\n",
       "    }\n",
       "\n",
       "    .dataframe thead th {\n",
       "        text-align: right;\n",
       "    }\n",
       "</style>\n",
       "<table border=\"1\" class=\"dataframe\">\n",
       "  <thead>\n",
       "    <tr style=\"text-align: right;\">\n",
       "      <th></th>\n",
       "      <th>습도(입력)</th>\n",
       "      <th>비가 왔나요?(타깃)</th>\n",
       "    </tr>\n",
       "  </thead>\n",
       "  <tbody>\n",
       "    <tr>\n",
       "      <td>0</td>\n",
       "      <td>0.6720</td>\n",
       "      <td>o</td>\n",
       "    </tr>\n",
       "    <tr>\n",
       "      <td>1</td>\n",
       "      <td>0.6570</td>\n",
       "      <td>o</td>\n",
       "    </tr>\n",
       "    <tr>\n",
       "      <td>2</td>\n",
       "      <td>0.6660</td>\n",
       "      <td>o</td>\n",
       "    </tr>\n",
       "    <tr>\n",
       "      <td>3</td>\n",
       "      <td>0.3334</td>\n",
       "      <td>x</td>\n",
       "    </tr>\n",
       "    <tr>\n",
       "      <td>4</td>\n",
       "      <td>0.5454</td>\n",
       "      <td>x</td>\n",
       "    </tr>\n",
       "    <tr>\n",
       "      <td>5</td>\n",
       "      <td>0.6230</td>\n",
       "      <td>o</td>\n",
       "    </tr>\n",
       "  </tbody>\n",
       "</table>\n",
       "</div>"
      ],
      "text/plain": [
       "   습도(입력) 비가 왔나요?(타깃)\n",
       "0  0.6720           o\n",
       "1  0.6570           o\n",
       "2  0.6660           o\n",
       "3  0.3334           x\n",
       "4  0.5454           x\n",
       "5  0.6230           o"
      ]
     },
     "execution_count": 4,
     "metadata": {},
     "output_type": "execute_result"
    }
   ],
   "source": [
    "import pandas as pd\n",
    "data = pd.DataFrame({\n",
    "    '습도(입력)' : [0.672 , 0.657, 0.666, 0.3334, 0.5454, 0.623],\n",
    "    '비가 왔나요?(타깃)': ['o', 'o', 'o', 'x', 'x', 'o']\n",
    "})\n",
    "data"
   ]
  },
  {
   "cell_type": "markdown",
   "metadata": {},
   "source": [
    "위 그림에서 볼수 있듯이 모델을 훈련시키기 위해 사용하는 데이터를 **'훈련데이터'** 라고 부릅니다. 그리고 훈련데이터는 **'입력** 과 **타겟**으로 구성되어 있다!\n",
    "입력은 모델이 풀어야 할 일종의 문제와 같은 것이다, 타깃은 모델이 맞춰야 할 정답과 같은 것이다. 문제에 대한 답을 주는 방법으로 모델을 훈련시키는 것이다.\n",
    "#### 학습을 통해 엎어진 프로그램은 모델이라고 하는데, 모델은 새로운 입력에 대한 예측을 만든다 \n",
    "ex) 오늘은 습도가 0.78이래! ---> 내일은 비가 올 것 같네\n",
    "\n",
    "지도학습은 기존의 데이터를 통해 모델을 학습시키고 학습시킨 모델로 새로운 입력에 대한 예측을 할 수 있으므로 내일의 날씨를 예측하거나 스팸 이메일을 분류하는 등의 일을 해결할 떄 많이 사용한다.**그런데!!** 지도 학습에서 가장 어려운 일은 모델을 훈련시키는 것이 아니라 훈련데이터를 만드는 것이다.**잘못된 입력과 타킷을 훈련 데이터에 포함시키면 잘못된 모델이 만들어 질수도 있고 데이터의 개수가 너무 적으면 모델을 충부히 훈련시킬 수 없기 떄문이다**"
   ]
  },
  {
   "cell_type": "markdown",
   "metadata": {},
   "source": [
    "## 2-2 비지도 학습은 타킷이 없는 데이터를 사용한다.\n",
    "**타킷이 없는 훈련 데이터를 사용하면 비지도 학습이라고 한다.**\n",
    "기업이 고객의 소비 성향에 따라 그룹을 지정하는 상황을 생각하면 비지도 학습의 개념을 쉽게 이해 할수 있을 것이다.<br> 그룹을 만들기 전까지는 어떤 그룹이 존재하는지 또 며개의 그룹이 만들어질지 알 수 없다.**즉, 깃이 없는 셈이다.**\n",
    "비지도 학습의 대표적인 예인 **군집(clustering)** 이다 "
   ]
  },
  {
   "cell_type": "code",
   "execution_count": 5,
   "metadata": {},
   "outputs": [
    {
     "data": {
      "image/png": "[encoded data removed]",
      "text/plain": [
       "<IPython.core.display.Image object>"
      ]
     },
     "execution_count": 5,
     "metadata": {},
     "output_type": "execute_result"
    }
   ],
   "source": [
    "from IPython.display import Image\n",
    "Image(\"../img/clustering.png\")"
   ]
  },
  {
   "cell_type": "markdown",
   "metadata": {},
   "source": [
    "위의 그림을 보니 색깔이 비슷한 것을 모아 그룹을 만드는거 같다. 그룹에서 새로운 모양이 발견되면 새 그룹이 생기겠지요. 비지도 학습은 훈련 데이터에 타킷이 없으므로 모델의 훈련 결과를 평가하기는 어렵다는 특징이 있다"
   ]
  },
  {
   "cell_type": "markdown",
   "metadata": {},
   "source": [
    "## 강화 학습은 주어진 환경으로부터 피드백을 받아 훈련합니다.\n",
    "강화 학습은 머신러닝 알고리즘으로 에이전트라는 것을 훈련시킵니다. 후련된 에이전트는 특정 환경에 최적화된 행동을 수행하고 수행에 대한 **보상**과 **현재상태**를 받습니다.에이전트의 목표는 '최대한 많은 보상을 받는 것'입니다. 그래서 에이전트는 주어진 환경에서 아주 많은 행동을 수행하여 학습됩니다. 강화 학습의 대표적인 알고리즘으로는 Q-learing, SARSA, 인공신경망을 이용한 DQN(Deep Q Network) 등이 있습니다. 강화 학습의 예로는 딥마인드(DeepMind)의 알파고(AlphaGo)와 같은 게임이나 온라인 광고 등이 있다."
   ]
  },
  {
   "cell_type": "markdown",
   "metadata": {},
   "source": [
    "## 규칙이란 가중치와 절편을 말합니다\n",
    "앞에서 머신러닝을 스스로 규칙을 찾는다고 설명했다. 그러면 규칙은 정확히 무엇일까요? 앞의 지도 학습에서 소개한 '오늘 습도에 따라 내일 비가 올지 안 올지 예측하는 모델'의 경우 '오늘 습도가 0.6 이상이면 내일 비가 온다'라는 규칙을 정했다."
   ]
  },
  {
   "cell_type": "code",
   "execution_count": 11,
   "metadata": {},
   "outputs": [
    {
     "data": {
      "text/html": [
       "<div>\n",
       "<style scoped>\n",
       "    .dataframe tbody tr th:only-of-type {\n",
       "        vertical-align: middle;\n",
       "    }\n",
       "\n",
       "    .dataframe tbody tr th {\n",
       "        vertical-align: top;\n",
       "    }\n",
       "\n",
       "    .dataframe thead th {\n",
       "        text-align: right;\n",
       "    }\n",
       "</style>\n",
       "<table border=\"1\" class=\"dataframe\">\n",
       "  <thead>\n",
       "    <tr style=\"text-align: right;\">\n",
       "      <th></th>\n",
       "      <th>습도(입력)</th>\n",
       "      <th>비가 왔나요?(타깃)</th>\n",
       "    </tr>\n",
       "  </thead>\n",
       "  <tbody>\n",
       "    <tr>\n",
       "      <td>0</td>\n",
       "      <td>0.6720</td>\n",
       "      <td>o</td>\n",
       "    </tr>\n",
       "    <tr>\n",
       "      <td>1</td>\n",
       "      <td>0.6570</td>\n",
       "      <td>o</td>\n",
       "    </tr>\n",
       "    <tr>\n",
       "      <td>2</td>\n",
       "      <td>0.6660</td>\n",
       "      <td>o</td>\n",
       "    </tr>\n",
       "    <tr>\n",
       "      <td>3</td>\n",
       "      <td>0.3334</td>\n",
       "      <td>x</td>\n",
       "    </tr>\n",
       "    <tr>\n",
       "      <td>4</td>\n",
       "      <td>0.5454</td>\n",
       "      <td>x</td>\n",
       "    </tr>\n",
       "    <tr>\n",
       "      <td>5</td>\n",
       "      <td>0.6230</td>\n",
       "      <td>o</td>\n",
       "    </tr>\n",
       "  </tbody>\n",
       "</table>\n",
       "</div>"
      ],
      "text/plain": [
       "   습도(입력) 비가 왔나요?(타깃)\n",
       "0  0.6720           o\n",
       "1  0.6570           o\n",
       "2  0.6660           o\n",
       "3  0.3334           x\n",
       "4  0.5454           x\n",
       "5  0.6230           o"
      ]
     },
     "execution_count": 11,
     "metadata": {},
     "output_type": "execute_result"
    }
   ],
   "source": [
    "data"
   ]
  },
  {
   "cell_type": "code",
   "execution_count": 10,
   "metadata": {},
   "outputs": [
    {
     "name": "stdout",
     "output_type": "stream",
     "text": [
      "훈련\n",
      "습도가 0.6 이상이면 다음날에 비가 왔네\n"
     ]
    }
   ],
   "source": [
    "  \n",
    "print(\"훈련\")\n",
    "print('습도가 0.6 이상이면 다음날에 비가 왔네')"
   ]
  },
  {
   "cell_type": "markdown",
   "metadata": {},
   "source": [
    "실제로 위의 규칙은 어떻게 표현할까요? 대부분의 머신러닝 알고리즘은 훈련 데이터와 규칙의 관계를 식으로 표현할 수 있다. 예를 들어 위의 경우는 다음과 같은 식으로 표현할수 있다.\n",
    "\n",
    "##                  1.5xX +0.1 =y ( y가 1이상이면 다음 날 비가 온다고 예측)     \n",
    "\n",
    "####  x= 입력 y = 타깃 ----> 1.5와 0.1 이 바로 규칙이다 이규칙은 각각 가중치와 절편이라고 부르는데 입력과 곱하는 수가 가중치, 더하는 수가 절편입니다. 위의 그림에 있는 습도를 앞 식의 입력에 넣어 계산해 보면 식이 입력 데이터와 규칙의 관계를 잘 표현하고 있음을 알 수 있을 것이다. 여기서는 가중치와 절편이 각각 1개인 간단한 식을 규칙의 예로 들었다. 딥러닝은 이것보다 훨씬 많은 개수(10만, 100만)의 가중치와 절편을 가진다!"
   ]
  },
  {
   "cell_type": "markdown",
   "metadata": {},
   "source": [
    "## 모델은 머신러닝의 수학적 표현입니다.\n",
    "앞에서 만든 수학식이 바로 **모델**입니다. 엄밀히 정의하면 모델은 **'훈련 데이터로 학습된 머신러닝 알고리즘'** 을 말합니다. 그리고 \n",
    "가중치와 절편을 합쳐 **모델 파라미터(model pararmeter)**라고 부릅니다"
   ]
  },
  {
   "cell_type": "markdown",
   "metadata": {},
   "source": [
    "## 손실 함수로 모델의 규칙을 수정한다!"
   ]
  },
  {
   "cell_type": "markdown",
   "metadata": {},
   "source": [
    "앞에서 만든 모델은 습도에 따라 내일 비가 올지 잘 예측하는 것 같다. 그런데 만약 훈련 데이터에 다음과 같은 데이터가 있다면 어떻게 될까요???"
   ]
  },
  {
   "cell_type": "code",
   "execution_count": 23,
   "metadata": {},
   "outputs": [
    {
     "data": {
      "text/html": [
       "<div>\n",
       "<style scoped>\n",
       "    .dataframe tbody tr th:only-of-type {\n",
       "        vertical-align: middle;\n",
       "    }\n",
       "\n",
       "    .dataframe tbody tr th {\n",
       "        vertical-align: top;\n",
       "    }\n",
       "\n",
       "    .dataframe thead th {\n",
       "        text-align: right;\n",
       "    }\n",
       "</style>\n",
       "<table border=\"1\" class=\"dataframe\">\n",
       "  <thead>\n",
       "    <tr style=\"text-align: right;\">\n",
       "      <th></th>\n",
       "      <th>습도(입력)</th>\n",
       "      <th>비가 왔나요?(타깃)</th>\n",
       "    </tr>\n",
       "  </thead>\n",
       "  <tbody>\n",
       "    <tr>\n",
       "      <td>0</td>\n",
       "      <td>0.6720</td>\n",
       "      <td>o</td>\n",
       "    </tr>\n",
       "    <tr>\n",
       "      <td>1</td>\n",
       "      <td>0.6570</td>\n",
       "      <td>o</td>\n",
       "    </tr>\n",
       "    <tr>\n",
       "      <td>2</td>\n",
       "      <td>0.6660</td>\n",
       "      <td>o</td>\n",
       "    </tr>\n",
       "    <tr>\n",
       "      <td>3</td>\n",
       "      <td>0.3334</td>\n",
       "      <td>x</td>\n",
       "    </tr>\n",
       "    <tr>\n",
       "      <td>4</td>\n",
       "      <td>0.5454</td>\n",
       "      <td>x</td>\n",
       "    </tr>\n",
       "    <tr>\n",
       "      <td>5</td>\n",
       "      <td>0.6230</td>\n",
       "      <td>o</td>\n",
       "    </tr>\n",
       "    <tr>\n",
       "      <td>6</td>\n",
       "      <td>0.4720</td>\n",
       "      <td>o</td>\n",
       "    </tr>\n",
       "  </tbody>\n",
       "</table>\n",
       "</div>"
      ],
      "text/plain": [
       "   습도(입력) 비가 왔나요?(타깃)\n",
       "0  0.6720           o\n",
       "1  0.6570           o\n",
       "2  0.6660           o\n",
       "3  0.3334           x\n",
       "4  0.5454           x\n",
       "5  0.6230           o\n",
       "6  0.4720           o"
      ]
     },
     "execution_count": 23,
     "metadata": {},
     "output_type": "execute_result"
    }
   ],
   "source": [
    "data.loc[6] = [0.472, 'o']\n",
    "data"
   ]
  },
  {
   "cell_type": "markdown",
   "metadata": {},
   "source": [
    "이전에 만든 모델(1,5*x + 0.1 =y)에 새로운 입력을 넣어 보면 모델이 예측한 값은 약0.8이므로 실제 타깃값인 O(비가옴,1)와 맞지 않습니다.\n",
    "바로 이런 경우에 모델 규칙(가중치, 절편)을 수정해야 합니다. 이떄 모델의 규칙을 수정하는 기준이 되는 함수를 **'손실함수(loss function)'**\n",
    "라고 부릅니다. 예를 들어 모델이 예측한 값과 타깃값의 차이를 계산하는 함수를 손실 함수로 정의할 수 있습니다. 위경우에 손실 함수를 대입하면\n",
    "1- 0.8의 계산값인 0.2 정도의 차이가 있으므로 규칙을 약간 상향 조정 해야될것 같다!"
   ]
  },
  {
   "cell_type": "markdown",
   "metadata": {},
   "source": [
    "## 최적화 알고리즘으로 손실 함수의 최솟값을 찾습니다.\n",
    "손실 함수는 단순히 예측한 값과 타깃의 차이를 정의하는 것이므로 손실 함수의 최솟값을 효율적으로 찾는 방법도 필요하다. 이떄 최솟값을 효율적으로 찾는 방법을 **최적화 알고리즘**이라고 부릅니다"
   ]
  },
  {
   "cell_type": "markdown",
   "metadata": {},
   "source": [
    "# 딥러닝을 소개합니다!"
   ]
  },
  {
   "cell_type": "markdown",
   "metadata": {},
   "source": [
    "### 이미 앞에서 딥러닝은 머신러닝 알고리즘 중 하나인 인공신경망(artificial neural network)으로 만든 것이라고 설명했다. \n",
    "머신러닝 알고리즘엥 선형회귀나 로지스틱 회귀와 같은 알고리즘들이 있다. 인공 신경망도 머신 러닝 알고리즘 중 하나이다! \n",
    "복잡한 문제를 해결하기 위해 인공신경망을 다양하게 쌓은 것을 ** 딥러닝** 이라 부르는것이다!"
   ]
  },
  {
   "cell_type": "code",
   "execution_count": null,
   "metadata": {},
   "outputs": [],
   "source": []
  }
 ],
 "metadata": {
  "kernelspec": {
   "display_name": "Python 3",
   "language": "python",
   "name": "python3"
  },
  "language_info": {
   "codemirror_mode": {
    "name": "ipython",
    "version": 3
   },
   "file_extension": ".py",
   "mimetype": "text/x-python",
   "name": "python",
   "nbconvert_exporter": "python",
   "pygments_lexer": "ipython3",
   "version": "3.7.4"
  }
 },
 "nbformat": 4,
 "nbformat_minor": 2
}
